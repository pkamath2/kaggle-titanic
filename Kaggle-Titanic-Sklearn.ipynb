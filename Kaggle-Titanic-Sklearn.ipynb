{
 "cells": [
  {
   "cell_type": "code",
   "execution_count": 103,
   "metadata": {},
   "outputs": [],
   "source": [
    "import numpy as np # linear algebra\n",
    "import pandas as pd # data processing, CSV file I/O (e.g. pd.read_csv)\n",
    "from sklearn.model_selection import train_test_split\n",
    "from sklearn.preprocessing import PolynomialFeatures\n",
    "from sklearn.linear_model import LogisticRegression\n",
    "from sklearn.model_selection import GridSearchCV\n",
    "from sklearn.ensemble import GradientBoostingClassifier\n",
    "from sklearn.svm import SVC\n",
    "import matplotlib.pyplot as plt\n",
    "\n",
    "df_train_orig = pd.read_csv('train.csv', keep_default_na=False)\n",
    "df_test = pd.read_csv('test.csv', keep_default_na=False)\n",
    "\n",
    "# 1. Extract y_test\n",
    "df_train_result = df_train_orig[['PassengerId','Survived']]\n",
    "df_train = df_train_orig.drop('Survived', axis=1)"
   ]
  },
  {
   "cell_type": "code",
   "execution_count": 104,
   "metadata": {
    "collapsed": true
   },
   "outputs": [],
   "source": [
    "# 2. Clean Data\n",
    "def clean_data(df):\n",
    "    df['Cabin'] = df['Cabin'].replace(to_replace='',value='Z')\n",
    "    df['Age'] = df['Age'].replace(to_replace='', value=0)\n",
    "    return df"
   ]
  },
  {
   "cell_type": "code",
   "execution_count": 105,
   "metadata": {
    "collapsed": true
   },
   "outputs": [],
   "source": [
    "# 3. Convert features values to numeric\n",
    "def encode_categorical_data(df):\n",
    "    #3.1 Convert female = 1; male = 0\n",
    "    df = df.replace(to_replace={'Sex':{'female':1, 'male':0}})\n",
    "    #3.2 Convert Embarked  S=0;C=1;Q=2\n",
    "    df = df.replace(to_replace={'Embarked':{'S':0, 'C':1, 'Q':2, '':0}})\n",
    "    return df"
   ]
  },
  {
   "cell_type": "code",
   "execution_count": 106,
   "metadata": {
    "collapsed": true
   },
   "outputs": [],
   "source": [
    "# 4. Add more features\n",
    "def add_features(df):\n",
    "    df = df[['PassengerId', 'Pclass', 'Sex', 'Age', 'SibSp', 'Parch', 'Embarked']]\n",
    "    df = df.applymap(lambda x: float(x))\n",
    "    df['is_child'] = df['Age'].apply(lambda x: float(x)<=15)\n",
    "    df['family_size'] = df['SibSp'] + df['Parch'] + 1\n",
    "    df['is_alone'] = df['family_size'] == 0\n",
    "    return df"
   ]
  },
  {
   "cell_type": "code",
   "execution_count": 107,
   "metadata": {
    "collapsed": true
   },
   "outputs": [],
   "source": [
    "def interpolate_age(df):\n",
    "    age_mean = df['Age'].mean()\n",
    "    age_std = df['Age'].std()\n",
    "    null_num = df.where(df['Age'] == 0)['Age'].dropna().count()\n",
    "    print(len(np.random.randint(age_mean - age_std, age_mean + age_std, null_num)))\n",
    "    df.loc[df['Age'] == 0, 'Age'] = np.random.randint(age_mean - age_std, age_mean + age_std, null_num)\n",
    "    return df"
   ]
  },
  {
   "cell_type": "code",
   "execution_count": 108,
   "metadata": {
    "collapsed": true
   },
   "outputs": [],
   "source": [
    "# 5. Scatter Plot. I am currently planning to use only Pclass, Sex, Age, SibSp, Parch and Embarked columns\n",
    "#pd.plotting.scatter_matrix(df_selected_train[['Pclass', 'Sex', 'Age', 'SibSp', 'Parch', 'Embarked']], c=df_train_result['Survived'], alpha=0.2, figsize=(30, 30))\n"
   ]
  },
  {
   "cell_type": "code",
   "execution_count": 109,
   "metadata": {},
   "outputs": [
    {
     "name": "stdout",
     "output_type": "stream",
     "text": [
      "177\n"
     ]
    }
   ],
   "source": [
    "df_train = clean_data(df_train)\n",
    "df_train = encode_categorical_data(df_train)\n",
    "df_train = add_features(df_train)\n",
    "df_train = interpolate_age(df_train)\n",
    "\n",
    "X_train, X_test, y_train, y_test = train_test_split(df_train[['Pclass', 'Sex', 'Age',  'Embarked', 'is_child','family_size','is_alone']], df_train_result['Survived'], random_state=0) "
   ]
  },
  {
   "cell_type": "code",
   "execution_count": 110,
   "metadata": {},
   "outputs": [
    {
     "name": "stdout",
     "output_type": "stream",
     "text": [
      "86\n"
     ]
    }
   ],
   "source": [
    "data_test = clean_data(df_test)\n",
    "data_test = encode_categorical_data(data_test)\n",
    "data_test = add_features(data_test)\n",
    "data_test = interpolate_age(data_test)\n",
    "\n",
    "selected_features = ['Pclass', 'Sex', 'Age', 'Embarked', 'is_child','family_size','is_alone']"
   ]
  },
  {
   "cell_type": "code",
   "execution_count": 111,
   "metadata": {},
   "outputs": [
    {
     "name": "stdout",
     "output_type": "stream",
     "text": [
      "Logistic Regression with Polynomial Features score = 0.8071748878923767\n"
     ]
    }
   ],
   "source": [
    "#LogisticRegression\n",
    "X_train_Poly = PolynomialFeatures(degree = 2).fit_transform(X_train)\n",
    "X_test_Poly = PolynomialFeatures(degree = 2).fit_transform(X_test)\n",
    "clf1 = LogisticRegression().fit(X_train_Poly, y_train)\n",
    "print('Logistic Regression with Polynomial Features score = {}'.format(clf1.score(X_test_Poly, y_test)))\n",
    "\n",
    "dfl_test = data_test.copy()\n",
    "poly_features = PolynomialFeatures(degree = 2).fit_transform(data_test[selected_features])\n",
    "dfl_test['Survived'] = clf1.predict(poly_features)\n",
    "dfw_test = pd.DataFrame({'PassengerId':df_test['PassengerId'].values, 'Survived' : dfl_test['Survived'].values})\n",
    "(dfw_test[['PassengerId', 'Survived']].applymap(lambda x : int(x)).set_index('PassengerId')).to_csv('titanic_pred_logistic.csv')\n",
    "dfw_test = pd.read_csv('titanic_pred_logistic.csv')"
   ]
  },
  {
   "cell_type": "code",
   "execution_count": 112,
   "metadata": {},
   "outputs": [
    {
     "name": "stdout",
     "output_type": "stream",
     "text": [
      "Grid Search CV Score = 1.0\n"
     ]
    }
   ],
   "source": [
    "#GridSearchCV\n",
    "clf2 = LogisticRegression()\n",
    "g = GridSearchCV(clf2, param_grid={'C' : [0.01, 0.1, 10, 100]}, scoring='precision')\n",
    "g.fit(X_train, y_train)\n",
    "print('Grid Search CV Score = {}'.format(g.score(X_test, y_test)))\n",
    "\n",
    "dfg_test['Survived'] = g.predict(data_test[selected_features])\n",
    "(dfg_test[['PassengerId', 'Survived']].applymap(lambda x : int(x)).set_index('PassengerId')).to_csv('titanic_pred.csv')\n",
    "dfg_test = pd.read_csv('titanic_pred.csv')"
   ]
  },
  {
   "cell_type": "code",
   "execution_count": 113,
   "metadata": {},
   "outputs": [
    {
     "name": "stdout",
     "output_type": "stream",
     "text": [
      "Gradient Boosting Classifier Score = 0.8430493273542601\n"
     ]
    },
    {
     "name": "stderr",
     "output_type": "stream",
     "text": [
      "/Users/purnimakamath/anaconda3/lib/python3.6/site-packages/ipykernel_launcher.py:7: SettingWithCopyWarning: \n",
      "A value is trying to be set on a copy of a slice from a DataFrame.\n",
      "Try using .loc[row_indexer,col_indexer] = value instead\n",
      "\n",
      "See the caveats in the documentation: http://pandas.pydata.org/pandas-docs/stable/indexing.html#indexing-view-versus-copy\n",
      "  import sys\n"
     ]
    }
   ],
   "source": [
    "#Gradien Boosting decision Tree Classifier\n",
    "gb = GradientBoostingClassifier(random_state=0)\n",
    "gb.fit(X_train, y_train)\n",
    "print('Gradient Boosting Classifier Score = {}'.format(gb.score(X_test, y_test)))\n",
    "\n",
    "dfgb_test = data_test[selected_features]\n",
    "dfgb_test['Survived'] = gb.predict(dfgb_test)\n",
    "dfgw_test = pd.DataFrame({'PassengerId':df_test['PassengerId'].values, 'Survived' : dfgb_test['Survived'].values})\n",
    "(dfgw_test[['PassengerId', 'Survived']].applymap(lambda x : int(x)).set_index('PassengerId')).to_csv('titanic_pred_gb.csv')\n",
    "dfgw_test = pd.read_csv('titanic_pred_gb.csv')"
   ]
  },
  {
   "cell_type": "code",
   "execution_count": 114,
   "metadata": {},
   "outputs": [
    {
     "name": "stdout",
     "output_type": "stream",
     "text": [
      "SVC score = 0.8295964125560538\n"
     ]
    },
    {
     "name": "stderr",
     "output_type": "stream",
     "text": [
      "/Users/purnimakamath/anaconda3/lib/python3.6/site-packages/ipykernel_launcher.py:7: SettingWithCopyWarning: \n",
      "A value is trying to be set on a copy of a slice from a DataFrame.\n",
      "Try using .loc[row_indexer,col_indexer] = value instead\n",
      "\n",
      "See the caveats in the documentation: http://pandas.pydata.org/pandas-docs/stable/indexing.html#indexing-view-versus-copy\n",
      "  import sys\n"
     ]
    }
   ],
   "source": [
    "#Support Vector Machines\n",
    "svc = SVC()\n",
    "svc.fit(X_train, y_train)\n",
    "print('SVC score = {}'.format(svc.score(X_test, y_test)))\n",
    "\n",
    "dfsvc_test = data_test[selected_features]\n",
    "dfsvc_test['Survived'] = svc.predict(dfsvc_test)\n",
    "dfsvc_test = pd.DataFrame({'PassengerId':df_test['PassengerId'].values, 'Survived' : dfsvc_test['Survived'].values})\n",
    "(dfsvc_test[['PassengerId', 'Survived']].applymap(lambda x : int(x)).set_index('PassengerId')).to_csv('titanic_pred_svc.csv')\n",
    "dfsvc_test = pd.read_csv('titanic_pred_svc.csv')"
   ]
  },
  {
   "cell_type": "code",
   "execution_count": null,
   "metadata": {
    "collapsed": true
   },
   "outputs": [],
   "source": []
  },
  {
   "cell_type": "code",
   "execution_count": null,
   "metadata": {
    "collapsed": true
   },
   "outputs": [],
   "source": []
  }
 ],
 "metadata": {
  "kernelspec": {
   "display_name": "Python 3",
   "language": "python",
   "name": "python3"
  },
  "language_info": {
   "codemirror_mode": {
    "name": "ipython",
    "version": 3
   },
   "file_extension": ".py",
   "mimetype": "text/x-python",
   "name": "python",
   "nbconvert_exporter": "python",
   "pygments_lexer": "ipython3",
   "version": "3.6.3"
  }
 },
 "nbformat": 4,
 "nbformat_minor": 2
}
